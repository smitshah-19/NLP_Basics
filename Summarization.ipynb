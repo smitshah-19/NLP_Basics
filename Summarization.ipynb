{
 "cells": [
  {
   "cell_type": "markdown",
   "metadata": {},
   "source": [
    "## **Summarization**\n",
    "\n"
   ]
  },
  {
   "cell_type": "code",
   "execution_count": 16,
   "metadata": {},
   "outputs": [],
   "source": [
    "from goose3 import Goose\n",
    "import tensorflow as tf\n",
    "from transformers import pipeline"
   ]
  },
  {
   "cell_type": "code",
   "execution_count": 17,
   "metadata": {},
   "outputs": [
    {
     "name": "stderr",
     "output_type": "stream",
     "text": [
      "No model was supplied, defaulted to google-t5/t5-small and revision d769bba (https://huggingface.co/google-t5/t5-small).\n",
      "Using a pipeline without specifying a model name and revision in production is not recommended.\n",
      "All PyTorch model weights were used when initializing TFT5ForConditionalGeneration.\n",
      "\n",
      "All the weights of TFT5ForConditionalGeneration were initialized from the PyTorch model.\n",
      "If your task is similar to the task the model of the checkpoint was trained on, you can already use TFT5ForConditionalGeneration for predictions without further training.\n"
     ]
    }
   ],
   "source": [
    "summ_obj=pipeline(\"summarization\")"
   ]
  },
  {
   "cell_type": "code",
   "execution_count": 18,
   "metadata": {},
   "outputs": [],
   "source": [
    "document='''Israel warned U.S. Defense Secretary Lloyd Austin during a call on Tuesday about an upcoming military operation in Lebanon, though no specific details were provided, the Associated Press reported, citing US officials.\n",
    "\n",
    "On the same day, an attack widely attributed to Israel resulted in the activation of thousands of pagers belonging to Hezbollah militants. \n",
    "\n",
    "Mint Poll\n",
    "Who is contesting against Congress' Vinesh Phogat in Haryana polls\n",
    "\n",
    "Yogesh Bairagi\n",
    "\n",
    "Nayab Singh Saini\n",
    "Submit Answer\n",
    "This call was one of four between Austin and Israeli Defense Minister Yoav Gallant that week, amid rising tensions and attacks between Israel and Hezbollah, raising concerns about the potential for a broader regional conflict.\n",
    "\n",
    "Also Read: Lebanon Pager Blasts: A text, 3 beeps and blasts – How Israel’s Mossad orchestrated coordinated deadly explosions\n",
    "\n",
    "The two spoke again later Tuesday, and the US has acknowledged being briefed following the attack. There was another call Wednesday, and they also spoke Sunday, AP reported citing the officials, who spoke on condition of anonymity to discuss private talks.'''"
   ]
  },
  {
   "cell_type": "code",
   "execution_count": 19,
   "metadata": {},
   "outputs": [],
   "source": [
    "summary=summ_obj(document,max_length=100,min_length=30,do_sample=False)"
   ]
  },
  {
   "cell_type": "code",
   "execution_count": 20,
   "metadata": {},
   "outputs": [
    {
     "data": {
      "text/plain": [
       "[{'summary_text': 'an attack widely attributed to Israel resulted in the activation of thousands of pagers belonging to Hezbollah militants . the call was one of four between Austin and Israeli defense minister Yoav Gallant that week .'}]"
      ]
     },
     "execution_count": 20,
     "metadata": {},
     "output_type": "execute_result"
    }
   ],
   "source": [
    "summary"
   ]
  },
  {
   "cell_type": "code",
   "execution_count": 22,
   "metadata": {},
   "outputs": [
    {
     "data": {
      "text/plain": [
       "36"
      ]
     },
     "execution_count": 22,
     "metadata": {},
     "output_type": "execute_result"
    }
   ],
   "source": [
    "len(summary[0]['summary_text'].split(' '))"
   ]
  },
  {
   "cell_type": "code",
   "execution_count": null,
   "metadata": {},
   "outputs": [],
   "source": []
  }
 ],
 "metadata": {
  "kernelspec": {
   "display_name": "nlp_venv",
   "language": "python",
   "name": "python3"
  },
  "language_info": {
   "codemirror_mode": {
    "name": "ipython",
    "version": 3
   },
   "file_extension": ".py",
   "mimetype": "text/x-python",
   "name": "python",
   "nbconvert_exporter": "python",
   "pygments_lexer": "ipython3",
   "version": "3.12.4"
  }
 },
 "nbformat": 4,
 "nbformat_minor": 2
}
