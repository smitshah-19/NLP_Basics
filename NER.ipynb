{
 "cells": [
  {
   "cell_type": "markdown",
   "metadata": {},
   "source": [
    "## **Named Entity Recognition**\n",
    "\n",
    "**Named Entity Recognition (NER)** in NLP is a technique used to identify and classify named entities in text into predefined categories such as people (e.g., \"John\"), organizations (e.g., \"Google\"), locations (e.g., \"Paris\"), dates, quantities, and more. NER helps in extracting structured information from unstructured text by identifying key elements that represent real-world objects or concepts.\n",
    "\n",
    "NER is widely used in applications like:\n",
    "- **Information extraction**: Automatically identifying important entities from documents or articles.\n",
    "- **Question answering systems**: Retrieving relevant data by recognizing the entities in a query.\n",
    "- **Text summarization**: Highlighting the most critical information, such as people or places mentioned in a text. \n",
    "\n",
    "By focusing on these entities, NER improves the ability of models to understand and organize textual data."
   ]
  },
  {
   "cell_type": "code",
   "execution_count": 8,
   "metadata": {},
   "outputs": [],
   "source": [
    "import spacy\n",
    "# from spacy.cli import download as spacy_download\n",
    "# spacy_download('en_core_web_sm')\n",
    "from spacy import displacy"
   ]
  },
  {
   "cell_type": "code",
   "execution_count": 2,
   "metadata": {},
   "outputs": [],
   "source": [
    "nlp=spacy.load(\"en_core_web_sm\")"
   ]
  },
  {
   "cell_type": "code",
   "execution_count": 7,
   "metadata": {},
   "outputs": [
    {
     "name": "stdout",
     "output_type": "stream",
     "text": [
      "TATA ==> ORG ==> Companies, agencies, institutions, etc.\n",
      "BigBasket Enterprise ==> ORG ==> Companies, agencies, institutions, etc.\n",
      "$45 Billion ==> MONEY ==> Monetary values, including unit\n"
     ]
    }
   ],
   "source": [
    "news=nlp(\"TATA accquired BigBasket Enterprise for $45 Billion\")\n",
    "for x in news.ents:\n",
    "    print(x.text,\"==>\",x.label_,\"==>\",spacy.explain(x.label_))"
   ]
  },
  {
   "cell_type": "code",
   "execution_count": 9,
   "metadata": {},
   "outputs": [
    {
     "data": {
      "text/html": [
       "<span class=\"tex2jax_ignore\"><div class=\"entities\" style=\"line-height: 2.5; direction: ltr\">\n",
       "<mark class=\"entity\" style=\"background: #7aecec; padding: 0.45em 0.6em; margin: 0 0.25em; line-height: 1; border-radius: 0.35em;\">\n",
       "    TATA\n",
       "    <span style=\"font-size: 0.8em; font-weight: bold; line-height: 1; border-radius: 0.35em; vertical-align: middle; margin-left: 0.5rem\">ORG</span>\n",
       "</mark>\n",
       " accquired \n",
       "<mark class=\"entity\" style=\"background: #7aecec; padding: 0.45em 0.6em; margin: 0 0.25em; line-height: 1; border-radius: 0.35em;\">\n",
       "    BigBasket Enterprise\n",
       "    <span style=\"font-size: 0.8em; font-weight: bold; line-height: 1; border-radius: 0.35em; vertical-align: middle; margin-left: 0.5rem\">ORG</span>\n",
       "</mark>\n",
       " for \n",
       "<mark class=\"entity\" style=\"background: #e4e7d2; padding: 0.45em 0.6em; margin: 0 0.25em; line-height: 1; border-radius: 0.35em;\">\n",
       "    $45 Billion\n",
       "    <span style=\"font-size: 0.8em; font-weight: bold; line-height: 1; border-radius: 0.35em; vertical-align: middle; margin-left: 0.5rem\">MONEY</span>\n",
       "</mark>\n",
       "</div></span>"
      ],
      "text/plain": [
       "<IPython.core.display.HTML object>"
      ]
     },
     "metadata": {},
     "output_type": "display_data"
    }
   ],
   "source": [
    "displacy.render(news,style=\"ent\")"
   ]
  }
 ],
 "metadata": {
  "kernelspec": {
   "display_name": "nlp_venv",
   "language": "python",
   "name": "python3"
  },
  "language_info": {
   "codemirror_mode": {
    "name": "ipython",
    "version": 3
   },
   "file_extension": ".py",
   "mimetype": "text/x-python",
   "name": "python",
   "nbconvert_exporter": "python",
   "pygments_lexer": "ipython3",
   "version": "3.12.4"
  }
 },
 "nbformat": 4,
 "nbformat_minor": 2
}
