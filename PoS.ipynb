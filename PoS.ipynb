{
 "cells": [
  {
   "cell_type": "markdown",
   "metadata": {},
   "source": [
    "## Parts of Speech\n",
    "\n",
    "**Part of Speech (POS) tagging** in NLP is the process of assigning grammatical labels (such as noun, verb, adjective, etc.) to each word in a text. POS tagging helps in understanding the syntactic structure and grammatical relationships between words, which is crucial for interpreting the meaning of sentences.\n",
    "\n",
    "The use of POS tagging in NLP includes:\n",
    "\n",
    "* **Improving text analysis:** By identifying the roles of words in a sentence, POS tagging enhances tasks like parsing, machine translation, and question answering.\n",
    "* **Disambiguating words:** Many words have multiple meanings depending on their use; POS tagging helps disambiguate these meanings by considering their context (e.g., \"bank\" as a noun or verb).\n",
    "* **Enhancing language models:** POS information can improve the accuracy of language models used for speech recognition, sentiment analysis, named entity recognition, and other NLP applications by providing additional context about word usage and relationships."
   ]
  },
  {
   "cell_type": "code",
   "execution_count": 15,
   "metadata": {},
   "outputs": [],
   "source": [
    "import nltk\n",
    "# nltk.download('averaged_perceptron_tagger_eng')\n",
    "# nltk.download('tagsets_json')"
   ]
  },
  {
   "cell_type": "code",
   "execution_count": 16,
   "metadata": {},
   "outputs": [],
   "source": [
    "# sentence=\"the cheat didn't help to pass the exam\"\n",
    "sentence='it is not good to cheat in exam'\n",
    "token=nltk.word_tokenize(sentence)"
   ]
  },
  {
   "cell_type": "code",
   "execution_count": 19,
   "metadata": {},
   "outputs": [
    {
     "data": {
      "text/plain": [
       "[('it', 'PRP'),\n",
       " ('is', 'VBZ'),\n",
       " ('not', 'RB'),\n",
       " ('good', 'JJ'),\n",
       " ('to', 'TO'),\n",
       " ('cheat', 'VB'),\n",
       " ('in', 'IN'),\n",
       " ('exam', 'NN')]"
      ]
     },
     "execution_count": 19,
     "metadata": {},
     "output_type": "execute_result"
    }
   ],
   "source": [
    "posd=nltk.pos_tag(token)\n",
    "posd"
   ]
  },
  {
   "cell_type": "code",
   "execution_count": 22,
   "metadata": {},
   "outputs": [
    {
     "name": "stdout",
     "output_type": "stream",
     "text": [
      "PRP: pronoun, personal\n",
      "    hers herself him himself hisself it itself me myself one oneself ours\n",
      "    ourselves ownself self she thee theirs them themselves they thou thy us\n",
      "it ==> PRP ==> None\n",
      "VBZ: verb, present tense, 3rd person singular\n",
      "    bases reconstructs marks mixes displeases seals carps weaves snatches\n",
      "    slumps stretches authorizes smolders pictures emerges stockpiles\n",
      "    seduces fizzes uses bolsters slaps speaks pleads ...\n",
      "is ==> VBZ ==> None\n",
      "RB: adverb\n",
      "    occasionally unabatingly maddeningly adventurously professedly\n",
      "    stirringly prominently technologically magisterially predominately\n",
      "    swiftly fiscally pitilessly ...\n",
      "not ==> RB ==> None\n",
      "JJ: adjective or numeral, ordinal\n",
      "    third ill-mannered pre-war regrettable oiled calamitous first separable\n",
      "    ectoplasmic battery-powered participatory fourth still-to-be-named\n",
      "    multilingual multi-disciplinary ...\n",
      "good ==> JJ ==> None\n",
      "TO: \"to\" as preposition or infinitive marker\n",
      "    to\n",
      "to ==> TO ==> None\n",
      "VB: verb, base form\n",
      "    ask assemble assess assign assume atone attention avoid bake balkanize\n",
      "    bank begin behold believe bend benefit bevel beware bless boil bomb\n",
      "    boost brace break bring broil brush build ...\n",
      "cheat ==> VB ==> None\n",
      "IN: preposition or conjunction, subordinating\n",
      "    astride among uppon whether out inside pro despite on by throughout\n",
      "    below within for towards near behind atop around if like until below\n",
      "    next into if beside ...\n",
      "in ==> IN ==> None\n",
      "NN: noun, common, singular or mass\n",
      "    common-carrier cabbage knuckle-duster Casino afghan shed thermostat\n",
      "    investment slide humour falloff slick wind hyena override subhumanity\n",
      "    machinist ...\n",
      "exam ==> NN ==> None\n"
     ]
    }
   ],
   "source": [
    "for i in range(len(posd)):\n",
    "    print(posd[i][0],'==>',posd[i][1],'==>',nltk.help.upenn_tagset(posd[i][1]))"
   ]
  },
  {
   "cell_type": "code",
   "execution_count": null,
   "metadata": {},
   "outputs": [],
   "source": [
    "  "
   ]
  }
 ],
 "metadata": {
  "kernelspec": {
   "display_name": "nlp_venv",
   "language": "python",
   "name": "python3"
  },
  "language_info": {
   "codemirror_mode": {
    "name": "ipython",
    "version": 3
   },
   "file_extension": ".py",
   "mimetype": "text/x-python",
   "name": "python",
   "nbconvert_exporter": "python",
   "pygments_lexer": "ipython3",
   "version": "3.12.4"
  }
 },
 "nbformat": 4,
 "nbformat_minor": 2
}
