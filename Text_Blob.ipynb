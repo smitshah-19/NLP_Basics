{
 "cells": [
  {
   "cell_type": "markdown",
   "metadata": {},
   "source": [
    "'' **Text Blob**\n",
    "\n",
    "**TextBlob** is a Python library for processing textual data in NLP that provides an easy-to-use interface for performing common text processing tasks. It simplifies operations like **tokenization**, **part-of-speech tagging**, **sentiment analysis**, **translation**, and **text classification**.\n",
    "\n",
    "### **Key Features:**\n",
    "- **Simple API**: TextBlob has an intuitive interface, making it accessible even for beginners.\n",
    "- **Sentiment Analysis**: It can analyze the polarity (positive, negative, neutral) and subjectivity of text.\n",
    "- **Linguistic Features**: Supports part-of-speech (POS) tagging, noun phrase extraction, and word inflection.\n",
    "- **Translation**: Leverages the Google Translate API for translating text between languages.\n",
    "- **Text Correction**: Includes features for spelling correction and word suggestions.\n",
    "\n",
    "### **Example Usage:**\n",
    "\n",
    "```python\n",
    "from textblob import TextBlob\n",
    "\n",
    "# Create a TextBlob object\n",
    "text = TextBlob(\"TextBlob simplifies text processing.\")\n",
    "\n",
    "# Tokenization\n",
    "print(text.words)\n",
    "\n",
    "# Sentiment Analysis\n",
    "print(text.sentiment)\n",
    "\n",
    "# Translation\n",
    "print(text.translate(to='es'))\n",
    "```\n",
    "\n",
    "TextBlob is widely used for quick, high-level text analysis tasks in applications like chatbots, sentiment analysis tools, and document processing systems."
   ]
  },
  {
   "cell_type": "code",
   "execution_count": 2,
   "metadata": {},
   "outputs": [],
   "source": [
    "from textblob import TextBlob"
   ]
  },
  {
   "cell_type": "code",
   "execution_count": 14,
   "metadata": {},
   "outputs": [],
   "source": [
    "blobs=TextBlob('''W3Schools is best platform to learn python''')"
   ]
  },
  {
   "cell_type": "code",
   "execution_count": 15,
   "metadata": {},
   "outputs": [
    {
     "data": {
      "text/plain": [
       "TextBlob(\"W3Schools is best platform to learn patron\")"
      ]
     },
     "execution_count": 15,
     "metadata": {},
     "output_type": "execute_result"
    }
   ],
   "source": [
    "#Spell Check\n",
    "blobs.correct()"
   ]
  },
  {
   "cell_type": "code",
   "execution_count": 16,
   "metadata": {},
   "outputs": [
    {
     "data": {
      "text/plain": [
       "TextBlob(\"W3Schools is best platform to learn patron\")"
      ]
     },
     "execution_count": 16,
     "metadata": {},
     "output_type": "execute_result"
    }
   ],
   "source": [
    "corrected_blob=blobs.correct()\n",
    "corrected_blob"
   ]
  },
  {
   "cell_type": "code",
   "execution_count": 17,
   "metadata": {},
   "outputs": [
    {
     "data": {
      "text/plain": [
       "TextBlob(\"W3SCHOOLS IS BEST PLATFORM TO LEARN PATRON\")"
      ]
     },
     "metadata": {},
     "output_type": "display_data"
    },
    {
     "data": {
      "text/plain": [
       "TextBlob(\"w3schools is best platform to learn patron\")"
      ]
     },
     "metadata": {},
     "output_type": "display_data"
    }
   ],
   "source": [
    "#Correct case - upper,lower\n",
    "display(corrected_blob.upper())\n",
    "display(corrected_blob.lower())"
   ]
  },
  {
   "cell_type": "code",
   "execution_count": 18,
   "metadata": {},
   "outputs": [
    {
     "data": {
      "text/plain": [
       "[('W3Schools', 'NNP'),\n",
       " ('is', 'VBZ'),\n",
       " ('best', 'JJS'),\n",
       " ('platform', 'NN'),\n",
       " ('to', 'TO'),\n",
       " ('learn', 'VB'),\n",
       " ('patron', 'NN')]"
      ]
     },
     "execution_count": 18,
     "metadata": {},
     "output_type": "execute_result"
    }
   ],
   "source": [
    "# POS - Part of speech tage\n",
    "corrected_blob.tags"
   ]
  },
  {
   "cell_type": "code",
   "execution_count": 19,
   "metadata": {},
   "outputs": [
    {
     "data": {
      "text/plain": [
       "WordList(['w3schools'])"
      ]
     },
     "execution_count": 19,
     "metadata": {},
     "output_type": "execute_result"
    }
   ],
   "source": [
    "#noun-phrase extraction\n",
    "corrected_blob.noun_phrases"
   ]
  },
  {
   "cell_type": "code",
   "execution_count": 20,
   "metadata": {},
   "outputs": [
    {
     "data": {
      "text/plain": [
       "Sentiment(polarity=1.0, subjectivity=0.3)"
      ]
     },
     "execution_count": 20,
     "metadata": {},
     "output_type": "execute_result"
    }
   ],
   "source": [
    "#Sentiment Analysis\n",
    "corrected_blob.sentiment"
   ]
  },
  {
   "cell_type": "code",
   "execution_count": 33,
   "metadata": {},
   "outputs": [],
   "source": [
    "from textblob.sentiments import NaiveBayesAnalyzer\n",
    "\n",
    "blob=TextBlob('''The watch is extremely small and the material and workmanship are not even close to that of the Casio watches that were manufactured in Japan in the 80s. I sent it back for a refund.\n",
    "''',analyzer=NaiveBayesAnalyzer())\n"
   ]
  },
  {
   "cell_type": "code",
   "execution_count": 34,
   "metadata": {},
   "outputs": [
    {
     "data": {
      "text/plain": [
       "Sentiment(classification='neg', p_pos=0.3312081107678021, p_neg=0.6687918892322001)"
      ]
     },
     "execution_count": 34,
     "metadata": {},
     "output_type": "execute_result"
    }
   ],
   "source": [
    "blob.sentiment"
   ]
  }
 ],
 "metadata": {
  "kernelspec": {
   "display_name": "nlp_venv",
   "language": "python",
   "name": "python3"
  },
  "language_info": {
   "codemirror_mode": {
    "name": "ipython",
    "version": 3
   },
   "file_extension": ".py",
   "mimetype": "text/x-python",
   "name": "python",
   "nbconvert_exporter": "python",
   "pygments_lexer": "ipython3",
   "version": "3.12.4"
  }
 },
 "nbformat": 4,
 "nbformat_minor": 2
}
