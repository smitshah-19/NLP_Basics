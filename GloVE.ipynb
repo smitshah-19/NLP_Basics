{
 "cells": [
  {
   "cell_type": "markdown",
   "metadata": {},
   "source": [
    "## **GloVE**\n",
    "\n",
    "**GloVe (Global Vectors for Word Representation)** works by analyzing word co-occurrence across a large corpus to learn word embeddings. Here's a simplified example:\n",
    "\n",
    "### **Example:**\n",
    "Suppose we have a small corpus:  \n",
    "**\"The cat sits on the mat.\"**  \n",
    "**\"The dog sits on the mat.\"**\n",
    "\n",
    "### **Co-occurrence Matrix:**\n",
    "GloVe builds a **co-occurrence matrix** for this corpus. For example, if the window size is 2 (considering 2 words before and after a target word), the matrix would count how often each word appears in the context of another. In this case:\n",
    "\n",
    "| Word  | the | cat | dog | sits | on | mat |\n",
    "|-------|-----|-----|-----|------|----|-----|\n",
    "| the   | 0   | 1   | 1   | 2    | 2  | 2   |\n",
    "| cat   | 1   | 0   | 0   | 1    | 1  | 1   |\n",
    "| dog   | 1   | 0   | 0   | 1    | 1  | 1   |\n",
    "| sits  | 2   | 1   | 1   | 0    | 2  | 2   |\n",
    "| on    | 2   | 1   | 1   | 2    | 0  | 2   |\n",
    "| mat   | 2   | 1   | 1   | 2    | 2  | 0   |\n",
    "\n",
    "### **Probability of Occurrence:**\n",
    "From this matrix, we calculate the **probability** of word co-occurrence. For example, the probability of \"cat\" occurring near \"the\" is:\n",
    "\n",
    "$$\n",
    "P(\\text{cat}|\\text{the}) = \\frac{\\text{Number of co-occurrences of \"cat\" with \"the\"}}{\\text{Total co-occurrences of \"the\"}} = \\frac{1}{1+1+2+2+2} = \\frac{1}{8}\n",
    "$$\n",
    "\n",
    "GloVe then learns word vectors by minimizing the difference between the dot product of word vectors and the log of the co-occurrence probability.\n",
    "\n",
    "### **Window Size:**\n",
    "The **window size** is important because it determines how many surrounding words (context) are considered for each target word. In this example, with a window size of 2, only the two nearest words before and after a target word are counted, which influences the word embeddings by focusing on local context."
   ]
  },
  {
   "cell_type": "code",
   "execution_count": 1,
   "metadata": {},
   "outputs": [],
   "source": [
    "import gensim\n",
    "from sklearn.manifold import TSNE\n",
    "import gensim.downloader as api\n",
    "import pandas as pd\n",
    "import numpy as np"
   ]
  },
  {
   "cell_type": "code",
   "execution_count": 2,
   "metadata": {},
   "outputs": [
    {
     "name": "stdout",
     "output_type": "stream",
     "text": [
      "[==================================================] 100.0% 376.1/376.1MB downloaded\n"
     ]
    }
   ],
   "source": [
    "glove_model=api.load('glove-wiki-gigaword-300')"
   ]
  },
  {
   "cell_type": "code",
   "execution_count": 3,
   "metadata": {},
   "outputs": [],
   "source": [
    "my_vocab=['apple','orange','shimla','banana','maruti','mumbai','china','india','husband',\n",
    "            'wife','brother','sister','red','yellow','computer','mobile','pear','guava']"
   ]
  },
  {
   "cell_type": "code",
   "execution_count": 4,
   "metadata": {},
   "outputs": [
    {
     "data": {
      "text/plain": [
       "[('loves', 0.6420262455940247),\n",
       " ('passion', 0.6261469125747681),\n",
       " ('loved', 0.595270574092865),\n",
       " ('romantic', 0.5921086072921753),\n",
       " ('lovers', 0.5904366970062256),\n",
       " ('lover', 0.5841912627220154),\n",
       " ('you', 0.5837852954864502),\n",
       " ('me', 0.5835772752761841),\n",
       " ('affection', 0.581821858882904),\n",
       " ('always', 0.5701122283935547)]"
      ]
     },
     "execution_count": 4,
     "metadata": {},
     "output_type": "execute_result"
    }
   ],
   "source": [
    "glove_model.most_similar('love')"
   ]
  },
  {
   "cell_type": "code",
   "execution_count": 13,
   "metadata": {},
   "outputs": [],
   "source": [
    "words=[]\n",
    "vectors=[]\n",
    "\n",
    "for word in my_vocab:\n",
    "    words.append(word)\n",
    "    vectors.append(glove_model[word])\n",
    "\n",
    "vectors = np.array(vectors)"
   ]
  },
  {
   "cell_type": "code",
   "execution_count": 14,
   "metadata": {},
   "outputs": [
    {
     "data": {
      "text/html": [
       "<div>\n",
       "<style scoped>\n",
       "    .dataframe tbody tr th:only-of-type {\n",
       "        vertical-align: middle;\n",
       "    }\n",
       "\n",
       "    .dataframe tbody tr th {\n",
       "        vertical-align: top;\n",
       "    }\n",
       "\n",
       "    .dataframe thead th {\n",
       "        text-align: right;\n",
       "    }\n",
       "</style>\n",
       "<table border=\"1\" class=\"dataframe\">\n",
       "  <thead>\n",
       "    <tr style=\"text-align: right;\">\n",
       "      <th></th>\n",
       "      <th>0</th>\n",
       "      <th>1</th>\n",
       "    </tr>\n",
       "  </thead>\n",
       "  <tbody>\n",
       "    <tr>\n",
       "      <th>0</th>\n",
       "      <td>apple</td>\n",
       "      <td>[-0.20842, -0.019668, 0.063981, -0.71403, -0.2...</td>\n",
       "    </tr>\n",
       "    <tr>\n",
       "      <th>1</th>\n",
       "      <td>orange</td>\n",
       "      <td>[-0.24776, -0.12359, 0.20986, -0.15834, -0.158...</td>\n",
       "    </tr>\n",
       "    <tr>\n",
       "      <th>2</th>\n",
       "      <td>shimla</td>\n",
       "      <td>[-0.083216, -0.235, 0.34561, 0.082819, 0.41372...</td>\n",
       "    </tr>\n",
       "    <tr>\n",
       "      <th>3</th>\n",
       "      <td>banana</td>\n",
       "      <td>[0.42141, 0.020467, 0.12666, 0.39762, -0.11016...</td>\n",
       "    </tr>\n",
       "    <tr>\n",
       "      <th>4</th>\n",
       "      <td>maruti</td>\n",
       "      <td>[-0.097778, 0.39619, -0.1984, 0.12019, 0.47573...</td>\n",
       "    </tr>\n",
       "    <tr>\n",
       "      <th>5</th>\n",
       "      <td>mumbai</td>\n",
       "      <td>[-0.25335, -0.41384, 0.15746, 0.23978, 0.09889...</td>\n",
       "    </tr>\n",
       "    <tr>\n",
       "      <th>6</th>\n",
       "      <td>china</td>\n",
       "      <td>[-0.11286, 0.033802, -0.2941, -0.75285, 0.0542...</td>\n",
       "    </tr>\n",
       "    <tr>\n",
       "      <th>7</th>\n",
       "      <td>india</td>\n",
       "      <td>[-0.11337, -0.57114, 0.070453, -0.36241, -0.05...</td>\n",
       "    </tr>\n",
       "    <tr>\n",
       "      <th>8</th>\n",
       "      <td>husband</td>\n",
       "      <td>[-0.2866, -0.32581, -0.051729, -0.21017, -0.03...</td>\n",
       "    </tr>\n",
       "    <tr>\n",
       "      <th>9</th>\n",
       "      <td>wife</td>\n",
       "      <td>[-0.62203, -0.091568, -0.45238, -0.45005, 0.12...</td>\n",
       "    </tr>\n",
       "    <tr>\n",
       "      <th>10</th>\n",
       "      <td>brother</td>\n",
       "      <td>[-0.11814, 0.33494, 0.14149, -0.33411, 0.09787...</td>\n",
       "    </tr>\n",
       "    <tr>\n",
       "      <th>11</th>\n",
       "      <td>sister</td>\n",
       "      <td>[-0.47697, 0.076817, -0.47216, -0.13498, 0.192...</td>\n",
       "    </tr>\n",
       "    <tr>\n",
       "      <th>12</th>\n",
       "      <td>red</td>\n",
       "      <td>[0.059672, -0.13475, 0.26764, -0.47441, 0.0156...</td>\n",
       "    </tr>\n",
       "    <tr>\n",
       "      <th>13</th>\n",
       "      <td>yellow</td>\n",
       "      <td>[-0.053451, 0.049399, 0.1133, -0.81798, -0.163...</td>\n",
       "    </tr>\n",
       "    <tr>\n",
       "      <th>14</th>\n",
       "      <td>computer</td>\n",
       "      <td>[-0.27628, 0.13999, 0.098519, -0.64019, 0.0319...</td>\n",
       "    </tr>\n",
       "    <tr>\n",
       "      <th>15</th>\n",
       "      <td>mobile</td>\n",
       "      <td>[-0.93518, 0.11477, -0.2488, -0.29031, -0.3565...</td>\n",
       "    </tr>\n",
       "    <tr>\n",
       "      <th>16</th>\n",
       "      <td>pear</td>\n",
       "      <td>[-0.49423, -0.18297, 0.44304, -0.45103, 0.0562...</td>\n",
       "    </tr>\n",
       "    <tr>\n",
       "      <th>17</th>\n",
       "      <td>guava</td>\n",
       "      <td>[0.32138, -0.43799, 0.48669, -0.41138, -0.0663...</td>\n",
       "    </tr>\n",
       "  </tbody>\n",
       "</table>\n",
       "</div>"
      ],
      "text/plain": [
       "           0                                                  1\n",
       "0      apple  [-0.20842, -0.019668, 0.063981, -0.71403, -0.2...\n",
       "1     orange  [-0.24776, -0.12359, 0.20986, -0.15834, -0.158...\n",
       "2     shimla  [-0.083216, -0.235, 0.34561, 0.082819, 0.41372...\n",
       "3     banana  [0.42141, 0.020467, 0.12666, 0.39762, -0.11016...\n",
       "4     maruti  [-0.097778, 0.39619, -0.1984, 0.12019, 0.47573...\n",
       "5     mumbai  [-0.25335, -0.41384, 0.15746, 0.23978, 0.09889...\n",
       "6      china  [-0.11286, 0.033802, -0.2941, -0.75285, 0.0542...\n",
       "7      india  [-0.11337, -0.57114, 0.070453, -0.36241, -0.05...\n",
       "8    husband  [-0.2866, -0.32581, -0.051729, -0.21017, -0.03...\n",
       "9       wife  [-0.62203, -0.091568, -0.45238, -0.45005, 0.12...\n",
       "10   brother  [-0.11814, 0.33494, 0.14149, -0.33411, 0.09787...\n",
       "11    sister  [-0.47697, 0.076817, -0.47216, -0.13498, 0.192...\n",
       "12       red  [0.059672, -0.13475, 0.26764, -0.47441, 0.0156...\n",
       "13    yellow  [-0.053451, 0.049399, 0.1133, -0.81798, -0.163...\n",
       "14  computer  [-0.27628, 0.13999, 0.098519, -0.64019, 0.0319...\n",
       "15    mobile  [-0.93518, 0.11477, -0.2488, -0.29031, -0.3565...\n",
       "16      pear  [-0.49423, -0.18297, 0.44304, -0.45103, 0.0562...\n",
       "17     guava  [0.32138, -0.43799, 0.48669, -0.41138, -0.0663..."
      ]
     },
     "execution_count": 14,
     "metadata": {},
     "output_type": "execute_result"
    }
   ],
   "source": [
    "dicts=zip(words,vectors)\n",
    "pd.DataFrame.from_dict(dicts)"
   ]
  },
  {
   "cell_type": "code",
   "execution_count": 15,
   "metadata": {},
   "outputs": [],
   "source": [
    "dim_model=TSNE(n_components=2,perplexity=3,init='pca',random_state=45)"
   ]
  },
  {
   "cell_type": "code",
   "execution_count": 16,
   "metadata": {},
   "outputs": [],
   "source": [
    "model=dim_model.fit_transform(vectors)"
   ]
  },
  {
   "cell_type": "code",
   "execution_count": 23,
   "metadata": {},
   "outputs": [],
   "source": [
    "import matplotlib.pyplot as plt"
   ]
  },
  {
   "cell_type": "code",
   "execution_count": 24,
   "metadata": {},
   "outputs": [],
   "source": [
    "x=[]\n",
    "y=[]\n",
    "\n",
    "for i in model:\n",
    "    x.append(i[0])\n",
    "    y.append(i[1])"
   ]
  },
  {
   "cell_type": "code",
   "execution_count": 28,
   "metadata": {},
   "outputs": [
    {
     "data": {
      "image/png": "[encoded data removed]",
      "text/plain": [
       "<Figure size 640x480 with 1 Axes>"
      ]
     },
     "metadata": {},
     "output_type": "display_data"
    }
   ],
   "source": [
    "for i in range(len(x)):\n",
    "    plt.scatter(x[i],y[i])\n",
    "    plt.annotate(words[i],xy=(x[i],y[i]),\n",
    "                 xytext=(2,2),\n",
    "                 textcoords='offset points',\n",
    "                 ha='right',\n",
    "                 va='bottom')"
   ]
  }
 ],
 "metadata": {
  "kernelspec": {
   "display_name": "nlp_venv",
   "language": "python",
   "name": "python3"
  },
  "language_info": {
   "codemirror_mode": {
    "name": "ipython",
    "version": 3
   },
   "file_extension": ".py",
   "mimetype": "text/x-python",
   "name": "python",
   "nbconvert_exporter": "python",
   "pygments_lexer": "ipython3",
   "version": "3.12.4"
  }
 },
 "nbformat": 4,
 "nbformat_minor": 2
}
